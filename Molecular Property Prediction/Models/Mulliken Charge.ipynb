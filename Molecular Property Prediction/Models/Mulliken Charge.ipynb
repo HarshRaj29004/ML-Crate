{
 "cells": [
  {
   "cell_type": "markdown",
   "id": "253d1e94",
   "metadata": {},
   "source": [
    "Mulliken charges arise from the Mulliken population analysis and provide a means of estimating partial atomic charges."
   ]
  },
  {
   "cell_type": "code",
   "execution_count": null,
   "id": "9db38bbb",
   "metadata": {},
   "outputs": [],
   "source": [
    "import pandas as pd\n",
    "import numpy as np\n",
    "import matplotlib.pyplot as plt\n",
    "import seaborn as sns\n",
    "import plotly.graph_objects as go\n",
    "import plotly.express as px\n",
    "import math"
   ]
  },
  {
   "cell_type": "code",
   "execution_count": null,
   "id": "4fe3ef27",
   "metadata": {
    "scrolled": true
   },
   "outputs": [],
   "source": [
    "charg_df=pd.read_csv('mulliken_charges.csv')\n",
    "charg_df.head()"
   ]
  },
  {
   "cell_type": "code",
   "execution_count": null,
   "id": "d69e8912",
   "metadata": {},
   "outputs": [],
   "source": [
    "charg_df.shape"
   ]
  },
  {
   "cell_type": "code",
   "execution_count": null,
   "id": "d1f7da01",
   "metadata": {},
   "outputs": [],
   "source": [
    "mol_df=pd.read_csv('structures.csv')\n",
    "mol_df.head()"
   ]
  },
  {
   "cell_type": "code",
   "execution_count": null,
   "id": "d3d131db",
   "metadata": {},
   "outputs": [],
   "source": [
    "mol_df.shape"
   ]
  },
  {
   "cell_type": "code",
   "execution_count": null,
   "id": "baf0e5c7",
   "metadata": {},
   "outputs": [],
   "source": [
    "charg_df[charg_df['molecule_name']=='dsgdb9nsd_000001']"
   ]
  },
  {
   "cell_type": "code",
   "execution_count": null,
   "id": "1f464d1a",
   "metadata": {},
   "outputs": [],
   "source": [
    "mol_charg=charg_df.groupby('molecule_name')\n",
    "mol_charg.get_group('dsgdb9nsd_000001')"
   ]
  },
  {
   "cell_type": "code",
   "execution_count": null,
   "id": "5cf690f1",
   "metadata": {},
   "outputs": [],
   "source": [
    "charge_sum = charg_df[charg_df['molecule_name'] == 'dsgdb9nsd_000001']['mulliken_charge'].sum()\n",
    "formatted_sum = \"{:.20f}\".format(charge_sum)\n",
    "print(formatted_sum)"
   ]
  },
  {
   "cell_type": "code",
   "execution_count": null,
   "id": "7bdba219",
   "metadata": {},
   "outputs": [],
   "source": [
    "fig = px.histogram(charg_df, x='mulliken_charge', nbins=500,title='Distribution of Mulliken Charge')\n",
    "fig.show()"
   ]
  },
  {
   "cell_type": "code",
   "execution_count": null,
   "id": "b95e0645",
   "metadata": {},
   "outputs": [],
   "source": [
    "df = pd.concat([mol_df, charg_df[['mulliken_charge']]], axis=1)\n",
    "df.head()"
   ]
  },
  {
   "cell_type": "code",
   "execution_count": null,
   "id": "bb368641",
   "metadata": {},
   "outputs": [],
   "source": [
    "sample_df=df.sample(n=200)"
   ]
  },
  {
   "cell_type": "code",
   "execution_count": null,
   "id": "e8bc3990",
   "metadata": {},
   "outputs": [],
   "source": [
    "fig = px.scatter_3d(sample_df, x='x', y='y', z='z', color='mulliken_charge',\n",
    "                    title='3D Scatter Plot of Spatial Coordinates with Mulliken Charge',\n",
    "                    labels={'x': 'X Coordinate', 'y': 'Y Coordinate', 'z': 'Z Coordinate', 'color': 'Mulliken Charge'})\n",
    "fig.show()"
   ]
  },
  {
   "cell_type": "code",
   "execution_count": null,
   "id": "c5134de9",
   "metadata": {},
   "outputs": [],
   "source": [
    "fig = px.box(sample_df, x='atom', y='mulliken_charge',title='Box Plot of Mulliken Charge by Atom Type',\n",
    "             labels={'x': 'Atom Type', 'y': 'Mulliken Charge'})\n",
    "fig.show()\n"
   ]
  },
  {
   "cell_type": "code",
   "execution_count": null,
   "id": "bf663aa7",
   "metadata": {},
   "outputs": [],
   "source": []
  }
 ],
 "metadata": {
  "kernelspec": {
   "display_name": "Python 3 (ipykernel)",
   "language": "python",
   "name": "python3"
  },
  "language_info": {
   "codemirror_mode": {
    "name": "ipython",
    "version": 3
   },
   "file_extension": ".py",
   "mimetype": "text/x-python",
   "name": "python",
   "nbconvert_exporter": "python",
   "pygments_lexer": "ipython3",
   "version": "3.10.4"
  }
 },
 "nbformat": 4,
 "nbformat_minor": 5
}
