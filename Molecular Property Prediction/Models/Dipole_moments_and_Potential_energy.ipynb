{
 "cells": [
  {
   "cell_type": "code",
   "execution_count": null,
   "id": "564bb8a2",
   "metadata": {},
   "outputs": [],
   "source": [
    "import pandas as pd\n",
    "import numpy as np\n",
    "import matplotlib.pyplot as plt\n",
    "import seaborn as sns\n",
    "import plotly.graph_objects as go\n",
    "import plotly.express as px\n",
    "import math"
   ]
  },
  {
   "cell_type": "markdown",
   "id": "27857d7a",
   "metadata": {},
   "source": [
    "### Data Loading and Exploration\n",
    "Load the dipole moments dataset and examine its structure and dimensions."
   ]
  },
  {
   "cell_type": "code",
   "execution_count": null,
   "id": "5a1cbe00",
   "metadata": {},
   "outputs": [],
   "source": [
    "dipole_df=pd.read_csv('dipole_moments.csv')\n",
    "dipole_df.head()"
   ]
  },
  {
   "cell_type": "code",
   "execution_count": null,
   "id": "3821d278",
   "metadata": {},
   "outputs": [],
   "source": [
    "dipole_df.shape"
   ]
  },
  {
   "cell_type": "markdown",
   "id": "36ee9e5a",
   "metadata": {},
   "source": [
    "### Histogram for Coordinate-specific Dipole Moment Distribution\n",
    "\n",
    "Plot a histogram to visualize the distribution of dipole moments along X, Y and Z coordinates"
   ]
  },
  {
   "cell_type": "code",
   "execution_count": null,
   "id": "24dae72a",
   "metadata": {},
   "outputs": [],
   "source": [
    "fig = px.histogram(dipole_df, x=['X', 'Y', 'Z'], barmode='overlay', histnorm='probability density', \n",
    "                   labels={'value': 'Dipole Moment', 'variable': 'Coordinate'})\n",
    "fig.update_layout(title='Coordinate specific dipole moment distribution', xaxis_title='Coordinate', yaxis_title='Probability Density')\n",
    "fig.show()"
   ]
  },
  {
   "cell_type": "markdown",
   "id": "b326181b",
   "metadata": {},
   "source": [
    "### Dipole Moments Distribution Along Coordinate Axes\n",
    "Dipole moments' distribution along 2 axes..."
   ]
  },
  {
   "cell_type": "code",
   "execution_count": null,
   "id": "03b42f56",
   "metadata": {},
   "outputs": [],
   "source": [
    "fig, ax = plt.subplots(1,3,figsize=(20,6))\n",
    "ax[0].scatter(dipole_df.X.values, dipole_df.Y.values, s=0.5, alpha=0.1);\n",
    "ax[0].set_xlabel(\"X\")\n",
    "ax[0].set_ylabel(\"Y\")\n",
    "ax[1].scatter(dipole_df.X.values, dipole_df.Z.values, s=0.5, alpha=0.1);\n",
    "ax[1].set_xlabel(\"X\")\n",
    "ax[1].set_ylabel(\"Z\")\n",
    "ax[2].scatter(dipole_df.Y.values, dipole_df.Z.values, s=0.5, alpha=0.1);\n",
    "ax[2].set_xlabel(\"Y\")\n",
    "ax[2].set_ylabel(\"Z\");"
   ]
  },
  {
   "cell_type": "code",
   "execution_count": null,
   "id": "1260b210",
   "metadata": {},
   "outputs": [],
   "source": [
    "dipole_copy=dipole_df.copy()"
   ]
  },
  {
   "cell_type": "code",
   "execution_count": null,
   "id": "451667fd",
   "metadata": {},
   "outputs": [],
   "source": [
    "dipole_copy['total_dipole']=dipole_copy.X+dipole_copy.Y+dipole_copy.Z"
   ]
  },
  {
   "cell_type": "code",
   "execution_count": null,
   "id": "73a1992a",
   "metadata": {},
   "outputs": [],
   "source": [
    "plt.figure(figsize=(20,6))\n",
    "sns.histplot(dipole_copy['total_dipole'], kde=True);\n",
    "plt.show()"
   ]
  },
  {
   "cell_type": "markdown",
   "id": "1668491b",
   "metadata": {},
   "source": [
    "This visualization allows for a visual assessment of the distribution of the total dipole moment values, providing insights into the range and spread of dipole moments across the molecular system"
   ]
  },
  {
   "cell_type": "code",
   "execution_count": null,
   "id": "7bf7ae1c",
   "metadata": {},
   "outputs": [],
   "source": [
    "dipole_copy['Magnitude'] = np.sqrt(dipole_copy['X']**2 + dipole_copy['Y']**2 + dipole_copy['Z']**2)"
   ]
  },
  {
   "cell_type": "markdown",
   "id": "ceb30255",
   "metadata": {},
   "source": [
    "Below visualization provides a comprehensive view of the spatial distribution of dipole moments within the molecular system, with each point representing a specific atom's dipole moment magnitude."
   ]
  },
  {
   "cell_type": "code",
   "execution_count": null,
   "id": "cd37f03a",
   "metadata": {},
   "outputs": [],
   "source": [
    "fig = px.scatter_3d(dipole_copy, x='X', y='Y', z='Z', color='Magnitude', title='3D Scatter Plot of Dipole Moments with Magnitude')\n",
    "fig.update_traces(marker=dict(size=3, opacity=0.5), selector=dict(mode='markers'))\n",
    "fig.update_layout(coloraxis_colorbar=dict(title='Magnitude of Dipole Moment'))\n",
    "fig.show()"
   ]
  },
  {
   "cell_type": "markdown",
   "id": "39cc7544",
   "metadata": {},
   "source": [
    "### Potential Energy Analysis"
   ]
  },
  {
   "cell_type": "code",
   "execution_count": null,
   "id": "a079c0ad",
   "metadata": {},
   "outputs": [],
   "source": [
    "potential_df=pd.read_csv('potential_energy.csv')\n",
    "potential_df.head()"
   ]
  },
  {
   "cell_type": "markdown",
   "id": "6cf9cc89",
   "metadata": {},
   "source": [
    "Histograms visualize the distribution of potential energy across molecules."
   ]
  },
  {
   "cell_type": "code",
   "execution_count": null,
   "id": "2ca84437",
   "metadata": {},
   "outputs": [],
   "source": [
    "fig = px.histogram(potential_df, x='potential_energy', nbins=500,title='Distribution of Potential Energy')\n",
    "fig.show()\n"
   ]
  },
  {
   "cell_type": "code",
   "execution_count": null,
   "id": "1eadc783",
   "metadata": {},
   "outputs": [],
   "source": [
    "df = pd.concat([dipole_copy, potential_df[['potential_energy']]], axis=1)\n",
    "df.head()"
   ]
  },
  {
   "cell_type": "code",
   "execution_count": null,
   "id": "8c9167ed",
   "metadata": {},
   "outputs": [],
   "source": [
    "df.columns"
   ]
  },
  {
   "cell_type": "code",
   "execution_count": null,
   "id": "c9d6ed8c",
   "metadata": {},
   "outputs": [],
   "source": [
    "plt.figure(figsize=(10,6))\n",
    "plt.hist(df['Magnitude'],bins=500)\n",
    "plt.show()"
   ]
  },
  {
   "cell_type": "markdown",
   "id": "7d16ce52",
   "metadata": {},
   "source": [
    "Scatter plots to explore potential energy in relation to dipole moments, providing insights into their potential relationship."
   ]
  },
  {
   "cell_type": "code",
   "execution_count": null,
   "id": "35cfe421",
   "metadata": {},
   "outputs": [],
   "source": [
    "fig = px.scatter_3d(df, x='X', y='Y', z='Z', color='potential_energy', title='3D Scatter Plot of Dipole Moments with Potential Energy')\n",
    "fig.update_traces(marker=dict(size=3, opacity=0.5), selector=dict(mode='markers'))\n",
    "fig.update_layout(coloraxis_colorbar=dict(title='Potential Energy'))\n",
    "fig.show()"
   ]
  },
  {
   "cell_type": "markdown",
   "id": "d2f10e4c",
   "metadata": {},
   "source": [
    "Correlation analysis is performed using heatmaps and pair plots to identify relationships between dipole moments, potential energy, and their components."
   ]
  },
  {
   "cell_type": "code",
   "execution_count": null,
   "id": "ad81bd32",
   "metadata": {},
   "outputs": [],
   "source": [
    "plt.figure(figsize=(12, 8))\n",
    "df1=df.drop(columns=['molecule_name'],axis=1)\n",
    "sns.heatmap(df1.corr(), annot=True, cmap='coolwarm', vmin=-1, vmax=1)\n",
    "plt.title('Correlation Heatmap')\n",
    "plt.show()"
   ]
  },
  {
   "cell_type": "code",
   "execution_count": null,
   "id": "bcc5a32e",
   "metadata": {},
   "outputs": [],
   "source": [
    "sns.pairplot(df[['total_dipole', 'Magnitude', 'potential_energy']])\n",
    "plt.show()"
   ]
  },
  {
   "cell_type": "markdown",
   "id": "f0e92050",
   "metadata": {},
   "source": [
    "Box plots offer further insights into the distribution of potential energy across molecules."
   ]
  },
  {
   "cell_type": "code",
   "execution_count": null,
   "id": "b7626ec5",
   "metadata": {},
   "outputs": [],
   "source": [
    "fig = px.box(df, y='potential_energy',title='Box Plot of Potential Energy')\n",
    "fig.show()"
   ]
  },
  {
   "cell_type": "code",
   "execution_count": null,
   "id": "467434f9",
   "metadata": {},
   "outputs": [],
   "source": []
  }
 ],
 "metadata": {
  "kernelspec": {
   "display_name": "Python 3 (ipykernel)",
   "language": "python",
   "name": "python3"
  },
  "language_info": {
   "codemirror_mode": {
    "name": "ipython",
    "version": 3
   },
   "file_extension": ".py",
   "mimetype": "text/x-python",
   "name": "python",
   "nbconvert_exporter": "python",
   "pygments_lexer": "ipython3",
   "version": "3.10.4"
  }
 },
 "nbformat": 4,
 "nbformat_minor": 5
}
